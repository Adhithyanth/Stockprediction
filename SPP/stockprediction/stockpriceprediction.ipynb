{
 "cells": [
  {
   "cell_type": "code",
   "execution_count": 1,
   "id": "20ad65bd",
   "metadata": {},
   "outputs": [],
   "source": [
    "import numpy as np\n",
    "import pandas as pd\n",
    "import matplotlib.pyplot as plt\n",
    "import pandas as pd\n",
    "import matplotlib.pyplot as plt\n",
    "import pandas as pd\n",
    "import numpy as np\n",
    "import matplotlib.pyplot as plt\n",
    "from statsmodels.tsa.statespace.sarimax import SARIMAX\n",
    "\n",
    "\n",
    "from tensorflow.keras.preprocessing.text import Tokenizer\n",
    "from tensorflow.keras.preprocessing.sequence import pad_sequences\n",
    "from tensorflow.keras.models import Sequential\n",
    "from tensorflow.keras.layers import LSTM,Dense, Dropout, SpatialDropout1D\n",
    "from tensorflow.keras.layers import Embedding\n",
    "from sklearn.linear_model import LinearRegression\n"
   ]
  },
  {
   "cell_type": "code",
   "execution_count": 2,
   "id": "7b0f37ae",
   "metadata": {},
   "outputs": [
    {
     "data": {
      "text/html": [
       "<div>\n",
       "<style scoped>\n",
       "    .dataframe tbody tr th:only-of-type {\n",
       "        vertical-align: middle;\n",
       "    }\n",
       "\n",
       "    .dataframe tbody tr th {\n",
       "        vertical-align: top;\n",
       "    }\n",
       "\n",
       "    .dataframe thead th {\n",
       "        text-align: right;\n",
       "    }\n",
       "</style>\n",
       "<table border=\"1\" class=\"dataframe\">\n",
       "  <thead>\n",
       "    <tr style=\"text-align: right;\">\n",
       "      <th></th>\n",
       "      <th>Date</th>\n",
       "      <th>Open</th>\n",
       "      <th>High</th>\n",
       "      <th>Low</th>\n",
       "      <th>Close</th>\n",
       "      <th>Adj Close</th>\n",
       "      <th>Volume</th>\n",
       "    </tr>\n",
       "  </thead>\n",
       "  <tbody>\n",
       "    <tr>\n",
       "      <th>0</th>\n",
       "      <td>2017-11-09</td>\n",
       "      <td>308.644989</td>\n",
       "      <td>329.451996</td>\n",
       "      <td>307.056000</td>\n",
       "      <td>320.884003</td>\n",
       "      <td>320.884003</td>\n",
       "      <td>893249984</td>\n",
       "    </tr>\n",
       "    <tr>\n",
       "      <th>1</th>\n",
       "      <td>2017-11-10</td>\n",
       "      <td>320.670990</td>\n",
       "      <td>324.717987</td>\n",
       "      <td>294.541992</td>\n",
       "      <td>299.252991</td>\n",
       "      <td>299.252991</td>\n",
       "      <td>885985984</td>\n",
       "    </tr>\n",
       "    <tr>\n",
       "      <th>2</th>\n",
       "      <td>2017-11-11</td>\n",
       "      <td>298.585999</td>\n",
       "      <td>319.453003</td>\n",
       "      <td>298.191986</td>\n",
       "      <td>314.681000</td>\n",
       "      <td>314.681000</td>\n",
       "      <td>842300992</td>\n",
       "    </tr>\n",
       "    <tr>\n",
       "      <th>3</th>\n",
       "      <td>2017-11-12</td>\n",
       "      <td>314.690002</td>\n",
       "      <td>319.153015</td>\n",
       "      <td>298.513000</td>\n",
       "      <td>307.907990</td>\n",
       "      <td>307.907990</td>\n",
       "      <td>1613479936</td>\n",
       "    </tr>\n",
       "    <tr>\n",
       "      <th>4</th>\n",
       "      <td>2017-11-13</td>\n",
       "      <td>307.024994</td>\n",
       "      <td>328.415009</td>\n",
       "      <td>307.024994</td>\n",
       "      <td>316.716003</td>\n",
       "      <td>316.716003</td>\n",
       "      <td>1041889984</td>\n",
       "    </tr>\n",
       "    <tr>\n",
       "      <th>...</th>\n",
       "      <td>...</td>\n",
       "      <td>...</td>\n",
       "      <td>...</td>\n",
       "      <td>...</td>\n",
       "      <td>...</td>\n",
       "      <td>...</td>\n",
       "      <td>...</td>\n",
       "    </tr>\n",
       "    <tr>\n",
       "      <th>1593</th>\n",
       "      <td>2022-03-21</td>\n",
       "      <td>2860.103271</td>\n",
       "      <td>2954.556641</td>\n",
       "      <td>2838.250488</td>\n",
       "      <td>2897.976563</td>\n",
       "      <td>2897.976563</td>\n",
       "      <td>15206116098</td>\n",
       "    </tr>\n",
       "    <tr>\n",
       "      <th>1594</th>\n",
       "      <td>2022-03-22</td>\n",
       "      <td>2897.774170</td>\n",
       "      <td>3040.382813</td>\n",
       "      <td>2892.544434</td>\n",
       "      <td>2973.131104</td>\n",
       "      <td>2973.131104</td>\n",
       "      <td>16830539230</td>\n",
       "    </tr>\n",
       "    <tr>\n",
       "      <th>1595</th>\n",
       "      <td>2022-03-23</td>\n",
       "      <td>2973.145020</td>\n",
       "      <td>3036.752197</td>\n",
       "      <td>2933.306641</td>\n",
       "      <td>3031.067139</td>\n",
       "      <td>3031.067139</td>\n",
       "      <td>16008767658</td>\n",
       "    </tr>\n",
       "    <tr>\n",
       "      <th>1596</th>\n",
       "      <td>2022-03-24</td>\n",
       "      <td>3031.060791</td>\n",
       "      <td>3118.387695</td>\n",
       "      <td>3012.326660</td>\n",
       "      <td>3108.062012</td>\n",
       "      <td>3108.062012</td>\n",
       "      <td>18070503166</td>\n",
       "    </tr>\n",
       "    <tr>\n",
       "      <th>1597</th>\n",
       "      <td>2022-03-25</td>\n",
       "      <td>3109.523438</td>\n",
       "      <td>3182.826660</td>\n",
       "      <td>3097.624268</td>\n",
       "      <td>3122.535889</td>\n",
       "      <td>3122.535889</td>\n",
       "      <td>16882068480</td>\n",
       "    </tr>\n",
       "  </tbody>\n",
       "</table>\n",
       "<p>1598 rows × 7 columns</p>\n",
       "</div>"
      ],
      "text/plain": [
       "            Date         Open         High          Low        Close  \\\n",
       "0     2017-11-09   308.644989   329.451996   307.056000   320.884003   \n",
       "1     2017-11-10   320.670990   324.717987   294.541992   299.252991   \n",
       "2     2017-11-11   298.585999   319.453003   298.191986   314.681000   \n",
       "3     2017-11-12   314.690002   319.153015   298.513000   307.907990   \n",
       "4     2017-11-13   307.024994   328.415009   307.024994   316.716003   \n",
       "...          ...          ...          ...          ...          ...   \n",
       "1593  2022-03-21  2860.103271  2954.556641  2838.250488  2897.976563   \n",
       "1594  2022-03-22  2897.774170  3040.382813  2892.544434  2973.131104   \n",
       "1595  2022-03-23  2973.145020  3036.752197  2933.306641  3031.067139   \n",
       "1596  2022-03-24  3031.060791  3118.387695  3012.326660  3108.062012   \n",
       "1597  2022-03-25  3109.523438  3182.826660  3097.624268  3122.535889   \n",
       "\n",
       "        Adj Close       Volume  \n",
       "0      320.884003    893249984  \n",
       "1      299.252991    885985984  \n",
       "2      314.681000    842300992  \n",
       "3      307.907990   1613479936  \n",
       "4      316.716003   1041889984  \n",
       "...           ...          ...  \n",
       "1593  2897.976563  15206116098  \n",
       "1594  2973.131104  16830539230  \n",
       "1595  3031.067139  16008767658  \n",
       "1596  3108.062012  18070503166  \n",
       "1597  3122.535889  16882068480  \n",
       "\n",
       "[1598 rows x 7 columns]"
      ]
     },
     "execution_count": 2,
     "metadata": {},
     "output_type": "execute_result"
    }
   ],
   "source": [
    "data=pd.read_csv(\"data.csv\")\n",
    "data"
   ]
  },
  {
   "cell_type": "code",
   "execution_count": 3,
   "id": "187b0ed1",
   "metadata": {},
   "outputs": [
    {
     "name": "stdout",
     "output_type": "stream",
     "text": [
      "<class 'pandas.core.frame.DataFrame'>\n",
      "RangeIndex: 1598 entries, 0 to 1597\n",
      "Data columns (total 7 columns):\n",
      " #   Column     Non-Null Count  Dtype  \n",
      "---  ------     --------------  -----  \n",
      " 0   Date       1598 non-null   object \n",
      " 1   Open       1598 non-null   float64\n",
      " 2   High       1598 non-null   float64\n",
      " 3   Low        1598 non-null   float64\n",
      " 4   Close      1598 non-null   float64\n",
      " 5   Adj Close  1598 non-null   float64\n",
      " 6   Volume     1598 non-null   int64  \n",
      "dtypes: float64(5), int64(1), object(1)\n",
      "memory usage: 87.5+ KB\n"
     ]
    }
   ],
   "source": [
    "data.info()"
   ]
  },
  {
   "cell_type": "code",
   "execution_count": 4,
   "id": "b02575a6",
   "metadata": {},
   "outputs": [
    {
     "data": {
      "text/plain": [
       "<AxesSubplot:xlabel='Open'>"
      ]
     },
     "execution_count": 4,
     "metadata": {},
     "output_type": "execute_result"
    },
    {
     "data": {
      "image/png": "[encoded data removed]",
      "text/plain": [
       "<Figure size 432x288 with 1 Axes>"
      ]
     },
     "metadata": {
      "needs_background": "light"
     },
     "output_type": "display_data"
    }
   ],
   "source": [
    "data.groupby('Open')['High'].mean().plot.bar()"
   ]
  },
  {
   "cell_type": "code",
   "execution_count": 5,
   "id": "4de67604",
   "metadata": {},
   "outputs": [
    {
     "data": {
      "text/html": [
       "<div>\n",
       "<style scoped>\n",
       "    .dataframe tbody tr th:only-of-type {\n",
       "        vertical-align: middle;\n",
       "    }\n",
       "\n",
       "    .dataframe tbody tr th {\n",
       "        vertical-align: top;\n",
       "    }\n",
       "\n",
       "    .dataframe thead th {\n",
       "        text-align: right;\n",
       "    }\n",
       "</style>\n",
       "<table border=\"1\" class=\"dataframe\">\n",
       "  <thead>\n",
       "    <tr style=\"text-align: right;\">\n",
       "      <th></th>\n",
       "      <th>Open</th>\n",
       "      <th>High</th>\n",
       "      <th>Low</th>\n",
       "      <th>Close</th>\n",
       "      <th>Adj Close</th>\n",
       "      <th>Volume</th>\n",
       "    </tr>\n",
       "  </thead>\n",
       "  <tbody>\n",
       "    <tr>\n",
       "      <th>Open</th>\n",
       "      <td>1.000000</td>\n",
       "      <td>0.999255</td>\n",
       "      <td>0.998307</td>\n",
       "      <td>0.997902</td>\n",
       "      <td>0.997902</td>\n",
       "      <td>0.554001</td>\n",
       "    </tr>\n",
       "    <tr>\n",
       "      <th>High</th>\n",
       "      <td>0.999255</td>\n",
       "      <td>1.000000</td>\n",
       "      <td>0.998189</td>\n",
       "      <td>0.998938</td>\n",
       "      <td>0.998938</td>\n",
       "      <td>0.562732</td>\n",
       "    </tr>\n",
       "    <tr>\n",
       "      <th>Low</th>\n",
       "      <td>0.998307</td>\n",
       "      <td>0.998189</td>\n",
       "      <td>1.000000</td>\n",
       "      <td>0.998974</td>\n",
       "      <td>0.998974</td>\n",
       "      <td>0.537763</td>\n",
       "    </tr>\n",
       "    <tr>\n",
       "      <th>Close</th>\n",
       "      <td>0.997902</td>\n",
       "      <td>0.998938</td>\n",
       "      <td>0.998974</td>\n",
       "      <td>1.000000</td>\n",
       "      <td>1.000000</td>\n",
       "      <td>0.552345</td>\n",
       "    </tr>\n",
       "    <tr>\n",
       "      <th>Adj Close</th>\n",
       "      <td>0.997902</td>\n",
       "      <td>0.998938</td>\n",
       "      <td>0.998974</td>\n",
       "      <td>1.000000</td>\n",
       "      <td>1.000000</td>\n",
       "      <td>0.552345</td>\n",
       "    </tr>\n",
       "    <tr>\n",
       "      <th>Volume</th>\n",
       "      <td>0.554001</td>\n",
       "      <td>0.562732</td>\n",
       "      <td>0.537763</td>\n",
       "      <td>0.552345</td>\n",
       "      <td>0.552345</td>\n",
       "      <td>1.000000</td>\n",
       "    </tr>\n",
       "  </tbody>\n",
       "</table>\n",
       "</div>"
      ],
      "text/plain": [
       "               Open      High       Low     Close  Adj Close    Volume\n",
       "Open       1.000000  0.999255  0.998307  0.997902   0.997902  0.554001\n",
       "High       0.999255  1.000000  0.998189  0.998938   0.998938  0.562732\n",
       "Low        0.998307  0.998189  1.000000  0.998974   0.998974  0.537763\n",
       "Close      0.997902  0.998938  0.998974  1.000000   1.000000  0.552345\n",
       "Adj Close  0.997902  0.998938  0.998974  1.000000   1.000000  0.552345\n",
       "Volume     0.554001  0.562732  0.537763  0.552345   0.552345  1.000000"
      ]
     },
     "execution_count": 5,
     "metadata": {},
     "output_type": "execute_result"
    }
   ],
   "source": [
    "#CORRELATION\n",
    "correlation = data.corr(method='pearson')\n",
    "correlation"
   ]
  },
  {
   "cell_type": "code",
   "execution_count": 6,
   "id": "b78df90e",
   "metadata": {},
   "outputs": [
    {
     "data": {
      "text/plain": [
       "Index(['Date', 'Open', 'High', 'Low', 'Close', 'Adj Close', 'Volume'], dtype='object')"
      ]
     },
     "execution_count": 6,
     "metadata": {},
     "output_type": "execute_result"
    }
   ],
   "source": [
    "data .columns"
   ]
  },
  {
   "cell_type": "code",
   "execution_count": 7,
   "id": "7242820c",
   "metadata": {
    "scrolled": true
   },
   "outputs": [
    {
     "data": {
      "text/html": [
       "<div>\n",
       "<style scoped>\n",
       "    .dataframe tbody tr th:only-of-type {\n",
       "        vertical-align: middle;\n",
       "    }\n",
       "\n",
       "    .dataframe tbody tr th {\n",
       "        vertical-align: top;\n",
       "    }\n",
       "\n",
       "    .dataframe thead th {\n",
       "        text-align: right;\n",
       "    }\n",
       "</style>\n",
       "<table border=\"1\" class=\"dataframe\">\n",
       "  <thead>\n",
       "    <tr style=\"text-align: right;\">\n",
       "      <th></th>\n",
       "      <th>Open</th>\n",
       "      <th>High</th>\n",
       "      <th>Low</th>\n",
       "      <th>Close</th>\n",
       "      <th>Adj Close</th>\n",
       "      <th>Volume</th>\n",
       "    </tr>\n",
       "  </thead>\n",
       "  <tbody>\n",
       "    <tr>\n",
       "      <th>count</th>\n",
       "      <td>1598.000000</td>\n",
       "      <td>1598.000000</td>\n",
       "      <td>1598.000000</td>\n",
       "      <td>1598.000000</td>\n",
       "      <td>1598.000000</td>\n",
       "      <td>1.598000e+03</td>\n",
       "    </tr>\n",
       "    <tr>\n",
       "      <th>mean</th>\n",
       "      <td>1026.060794</td>\n",
       "      <td>1061.282123</td>\n",
       "      <td>986.461636</td>\n",
       "      <td>1027.554834</td>\n",
       "      <td>1027.554834</td>\n",
       "      <td>1.245347e+10</td>\n",
       "    </tr>\n",
       "    <tr>\n",
       "      <th>std</th>\n",
       "      <td>1230.979724</td>\n",
       "      <td>1270.582395</td>\n",
       "      <td>1185.384747</td>\n",
       "      <td>1231.398723</td>\n",
       "      <td>1231.398723</td>\n",
       "      <td>1.121937e+10</td>\n",
       "    </tr>\n",
       "    <tr>\n",
       "      <th>min</th>\n",
       "      <td>84.279694</td>\n",
       "      <td>85.342743</td>\n",
       "      <td>82.829887</td>\n",
       "      <td>84.308296</td>\n",
       "      <td>84.308296</td>\n",
       "      <td>6.217330e+08</td>\n",
       "    </tr>\n",
       "    <tr>\n",
       "      <th>25%</th>\n",
       "      <td>196.428421</td>\n",
       "      <td>201.416004</td>\n",
       "      <td>188.846440</td>\n",
       "      <td>196.605812</td>\n",
       "      <td>196.605812</td>\n",
       "      <td>3.154440e+09</td>\n",
       "    </tr>\n",
       "    <tr>\n",
       "      <th>50%</th>\n",
       "      <td>386.373398</td>\n",
       "      <td>396.498703</td>\n",
       "      <td>375.446228</td>\n",
       "      <td>386.445556</td>\n",
       "      <td>386.445556</td>\n",
       "      <td>9.525409e+09</td>\n",
       "    </tr>\n",
       "    <tr>\n",
       "      <th>75%</th>\n",
       "      <td>1647.892822</td>\n",
       "      <td>1721.577515</td>\n",
       "      <td>1568.554352</td>\n",
       "      <td>1659.367554</td>\n",
       "      <td>1659.367554</td>\n",
       "      <td>1.764118e+10</td>\n",
       "    </tr>\n",
       "    <tr>\n",
       "      <th>max</th>\n",
       "      <td>4810.071289</td>\n",
       "      <td>4891.704590</td>\n",
       "      <td>4718.039063</td>\n",
       "      <td>4812.087402</td>\n",
       "      <td>4812.087402</td>\n",
       "      <td>8.448291e+10</td>\n",
       "    </tr>\n",
       "  </tbody>\n",
       "</table>\n",
       "</div>"
      ],
      "text/plain": [
       "              Open         High          Low        Close    Adj Close  \\\n",
       "count  1598.000000  1598.000000  1598.000000  1598.000000  1598.000000   \n",
       "mean   1026.060794  1061.282123   986.461636  1027.554834  1027.554834   \n",
       "std    1230.979724  1270.582395  1185.384747  1231.398723  1231.398723   \n",
       "min      84.279694    85.342743    82.829887    84.308296    84.308296   \n",
       "25%     196.428421   201.416004   188.846440   196.605812   196.605812   \n",
       "50%     386.373398   396.498703   375.446228   386.445556   386.445556   \n",
       "75%    1647.892822  1721.577515  1568.554352  1659.367554  1659.367554   \n",
       "max    4810.071289  4891.704590  4718.039063  4812.087402  4812.087402   \n",
       "\n",
       "             Volume  \n",
       "count  1.598000e+03  \n",
       "mean   1.245347e+10  \n",
       "std    1.121937e+10  \n",
       "min    6.217330e+08  \n",
       "25%    3.154440e+09  \n",
       "50%    9.525409e+09  \n",
       "75%    1.764118e+10  \n",
       "max    8.448291e+10  "
      ]
     },
     "execution_count": 7,
     "metadata": {},
     "output_type": "execute_result"
    }
   ],
   "source": [
    "data.describe()"
   ]
  },
  {
   "cell_type": "code",
   "execution_count": 8,
   "id": "060d50c7",
   "metadata": {},
   "outputs": [
    {
     "name": "stdout",
     "output_type": "stream",
     "text": [
      "(1598, 2)\n"
     ]
    },
    {
     "data": {
      "text/html": [
       "<div>\n",
       "<style scoped>\n",
       "    .dataframe tbody tr th:only-of-type {\n",
       "        vertical-align: middle;\n",
       "    }\n",
       "\n",
       "    .dataframe tbody tr th {\n",
       "        vertical-align: top;\n",
       "    }\n",
       "\n",
       "    .dataframe thead th {\n",
       "        text-align: right;\n",
       "    }\n",
       "</style>\n",
       "<table border=\"1\" class=\"dataframe\">\n",
       "  <thead>\n",
       "    <tr style=\"text-align: right;\">\n",
       "      <th></th>\n",
       "      <th>Date</th>\n",
       "      <th>High</th>\n",
       "    </tr>\n",
       "  </thead>\n",
       "  <tbody>\n",
       "    <tr>\n",
       "      <th>0</th>\n",
       "      <td>2017-11-09</td>\n",
       "      <td>329.451996</td>\n",
       "    </tr>\n",
       "    <tr>\n",
       "      <th>1</th>\n",
       "      <td>2017-11-10</td>\n",
       "      <td>324.717987</td>\n",
       "    </tr>\n",
       "    <tr>\n",
       "      <th>2</th>\n",
       "      <td>2017-11-11</td>\n",
       "      <td>319.453003</td>\n",
       "    </tr>\n",
       "    <tr>\n",
       "      <th>3</th>\n",
       "      <td>2017-11-12</td>\n",
       "      <td>319.153015</td>\n",
       "    </tr>\n",
       "    <tr>\n",
       "      <th>4</th>\n",
       "      <td>2017-11-13</td>\n",
       "      <td>328.415009</td>\n",
       "    </tr>\n",
       "    <tr>\n",
       "      <th>...</th>\n",
       "      <td>...</td>\n",
       "      <td>...</td>\n",
       "    </tr>\n",
       "    <tr>\n",
       "      <th>495</th>\n",
       "      <td>2019-03-19</td>\n",
       "      <td>140.989059</td>\n",
       "    </tr>\n",
       "    <tr>\n",
       "      <th>496</th>\n",
       "      <td>2019-03-20</td>\n",
       "      <td>140.945572</td>\n",
       "    </tr>\n",
       "    <tr>\n",
       "      <th>497</th>\n",
       "      <td>2019-03-21</td>\n",
       "      <td>141.003235</td>\n",
       "    </tr>\n",
       "    <tr>\n",
       "      <th>498</th>\n",
       "      <td>2019-03-22</td>\n",
       "      <td>138.794296</td>\n",
       "    </tr>\n",
       "    <tr>\n",
       "      <th>499</th>\n",
       "      <td>2019-03-23</td>\n",
       "      <td>139.385391</td>\n",
       "    </tr>\n",
       "  </tbody>\n",
       "</table>\n",
       "<p>500 rows × 2 columns</p>\n",
       "</div>"
      ],
      "text/plain": [
       "           Date        High\n",
       "0    2017-11-09  329.451996\n",
       "1    2017-11-10  324.717987\n",
       "2    2017-11-11  319.453003\n",
       "3    2017-11-12  319.153015\n",
       "4    2017-11-13  328.415009\n",
       "..          ...         ...\n",
       "495  2019-03-19  140.989059\n",
       "496  2019-03-20  140.945572\n",
       "497  2019-03-21  141.003235\n",
       "498  2019-03-22  138.794296\n",
       "499  2019-03-23  139.385391\n",
       "\n",
       "[500 rows x 2 columns]"
      ]
     },
     "execution_count": 8,
     "metadata": {},
     "output_type": "execute_result"
    }
   ],
   "source": [
    "High_data  = data [['Date','High']]\n",
    "print(High_data .shape)\n",
    "High_data .head(500)"
   ]
  },
  {
   "cell_type": "markdown",
   "id": "c1c4f7df",
   "metadata": {},
   "source": [
    "**VISUALIZATIONS**"
   ]
  },
  {
   "cell_type": "markdown",
   "id": "59986c97",
   "metadata": {},
   "source": [
    "**Line plot of the closing price**"
   ]
  },
  {
   "cell_type": "code",
   "execution_count": 9,
   "id": "d0ed0cd0",
   "metadata": {
    "scrolled": false
   },
   "outputs": [
    {
     "data": {
      "image/png": "[encoded data removed]",
      "text/plain": [
       "<Figure size 432x288 with 1 Axes>"
      ]
     },
     "metadata": {
      "needs_background": "light"
     },
     "output_type": "display_data"
    }
   ],
   "source": [
    "\n",
    "# Visualization 1: Line plot of the closing price\n",
    "plt.plot(data['Close'])\n",
    "plt.title('Closing Price')\n",
    "plt.xlabel('Date')\n",
    "plt.ylabel('Price')\n",
    "plt.show()\n"
   ]
  },
  {
   "cell_type": "markdown",
   "id": "fb38a94f",
   "metadata": {},
   "source": [
    "**Bar chart of the trading volume**"
   ]
  },
  {
   "cell_type": "code",
   "execution_count": 10,
   "id": "31660640",
   "metadata": {},
   "outputs": [
    {
     "data": {
      "image/png": "[encoded data removed]",
      "text/plain": [
       "<Figure size 432x288 with 1 Axes>"
      ]
     },
     "metadata": {
      "needs_background": "light"
     },
     "output_type": "display_data"
    }
   ],
   "source": [
    "plt.bar(data['Date'], data['Volume'])\n",
    "plt.title('Trading Volume')\n",
    "plt.xlabel('Date')\n",
    "plt.ylabel('Volume')\n",
    "plt.show()"
   ]
  },
  {
   "cell_type": "markdown",
   "id": "5a734d6f",
   "metadata": {},
   "source": [
    "**Scatter plot of the high and low prices**"
   ]
  },
  {
   "cell_type": "code",
   "execution_count": 11,
   "id": "9a7f6f68",
   "metadata": {
    "scrolled": true
   },
   "outputs": [
    {
     "data": {
      "image/png": "[encoded data removed]",
      "text/plain": [
       "<Figure size 432x288 with 1 Axes>"
      ]
     },
     "metadata": {
      "needs_background": "light"
     },
     "output_type": "display_data"
    }
   ],
   "source": [
    "plt.scatter(data['High'], data['Low'])\n",
    "plt.title('High vs Low Prices')\n",
    "plt.xlabel('High')\n",
    "plt.ylabel('Low')\n",
    "plt.show()"
   ]
  },
  {
   "cell_type": "code",
   "execution_count": 12,
   "id": "67672492",
   "metadata": {},
   "outputs": [
    {
     "name": "stdout",
     "output_type": "stream",
     "text": [
      "<class 'pandas.core.frame.DataFrame'>\n",
      "RangeIndex: 1598 entries, 0 to 1597\n",
      "Data columns (total 7 columns):\n",
      " #   Column     Non-Null Count  Dtype  \n",
      "---  ------     --------------  -----  \n",
      " 0   Date       1598 non-null   object \n",
      " 1   Open       1598 non-null   float64\n",
      " 2   High       1598 non-null   float64\n",
      " 3   Low        1598 non-null   float64\n",
      " 4   Close      1598 non-null   float64\n",
      " 5   Adj Close  1598 non-null   float64\n",
      " 6   Volume     1598 non-null   int64  \n",
      "dtypes: float64(5), int64(1), object(1)\n",
      "memory usage: 87.5+ KB\n"
     ]
    }
   ],
   "source": [
    "def mean(t):\n",
    "    return(float(sum(High)) / len(low))\n",
    "data .info()"
   ]
  },
  {
   "cell_type": "markdown",
   "id": "bb2bd95d",
   "metadata": {},
   "source": [
    "**Histogram of the opening prices**"
   ]
  },
  {
   "cell_type": "code",
   "execution_count": 79,
   "id": "7cdb3a00",
   "metadata": {
    "scrolled": true
   },
   "outputs": [
    {
     "data": {
      "image/png": "[encoded data removed]",
      "text/plain": [
       "<Figure size 432x288 with 1 Axes>"
      ]
     },
     "metadata": {
      "needs_background": "light"
     },
     "output_type": "display_data"
    }
   ],
   "source": [
    "plt.hist(data['Open'], bins=20)\n",
    "plt.title('Opening Price Distribution')\n",
    "plt.xlabel('Price')\n",
    "plt.ylabel('Frequency')\n",
    "plt.show()"
   ]
  },
  {
   "cell_type": "code",
   "execution_count": 13,
   "id": "0685ca80",
   "metadata": {},
   "outputs": [
    {
     "data": {
      "text/plain": [
       "Date         False\n",
       "Open         False\n",
       "High         False\n",
       "Low          False\n",
       "Close        False\n",
       "Adj Close    False\n",
       "Volume       False\n",
       "dtype: bool"
      ]
     },
     "execution_count": 13,
     "metadata": {},
     "output_type": "execute_result"
    }
   ],
   "source": [
    "data .isnull().any()"
   ]
  },
  {
   "cell_type": "markdown",
   "id": "813c71ed",
   "metadata": {},
   "source": [
    "**Line plot of the adjusted closing price**"
   ]
  },
  {
   "cell_type": "code",
   "execution_count": 14,
   "id": "1e2e7972",
   "metadata": {
    "scrolled": true
   },
   "outputs": [
    {
     "data": {
      "image/png": "[encoded data removed]",
      "text/plain": [
       "<Figure size 432x288 with 1 Axes>"
      ]
     },
     "metadata": {
      "needs_background": "light"
     },
     "output_type": "display_data"
    }
   ],
   "source": [
    "plt.plot(data['Adj Close'])\n",
    "plt.title('Adjusted Closing Price')\n",
    "plt.xlabel('Date')\n",
    "plt.ylabel('Price')\n",
    "plt.show()"
   ]
  },
  {
   "cell_type": "code",
   "execution_count": 15,
   "id": "b3b44a24",
   "metadata": {},
   "outputs": [
    {
     "data": {
      "text/plain": [
       "Date         0\n",
       "Open         0\n",
       "High         0\n",
       "Low          0\n",
       "Close        0\n",
       "Adj Close    0\n",
       "Volume       0\n",
       "dtype: int64"
      ]
     },
     "execution_count": 15,
     "metadata": {},
     "output_type": "execute_result"
    }
   ],
   "source": [
    "data .isnull().sum()"
   ]
  },
  {
   "cell_type": "code",
   "execution_count": 16,
   "id": "9ccf59ab",
   "metadata": {},
   "outputs": [],
   "source": [
    "embedding_vector_length = 32\n",
    "model = Sequential() \n",
    "model.add(LSTM(50, dropout=0.5, recurrent_dropout=0.5))"
   ]
  },
  {
   "cell_type": "markdown",
   "id": "834def0f",
   "metadata": {},
   "source": [
    "**Stacked bar chart of the high and low prices**"
   ]
  },
  {
   "cell_type": "code",
   "execution_count": 17,
   "id": "a1afbcb0",
   "metadata": {},
   "outputs": [
    {
     "data": {
      "image/png": "[encoded data removed]",
      "text/plain": [
       "<Figure size 432x288 with 1 Axes>"
      ]
     },
     "metadata": {
      "needs_background": "light"
     },
     "output_type": "display_data"
    }
   ],
   "source": [
    "plt.bar(data['Date'], data['High'], label='High')\n",
    "plt.bar(data['Date'], data['Low'], label='Low', bottom=data['High'])\n",
    "plt.title('High vs Low Prices')\n",
    "plt.xlabel('Date')\n",
    "plt.ylabel('Price')\n",
    "plt.legend()\n",
    "plt.show()"
   ]
  },
  {
   "cell_type": "markdown",
   "id": "1fdf7e57",
   "metadata": {},
   "source": [
    "**Line plot of the opening and closing prices**"
   ]
  },
  {
   "cell_type": "code",
   "execution_count": 14,
   "id": "588d019e",
   "metadata": {
    "scrolled": true
   },
   "outputs": [
    {
     "data": {
      "image/png": "[encoded data removed]",
      "text/plain": [
       "<Figure size 432x288 with 1 Axes>"
      ]
     },
     "metadata": {
      "needs_background": "light"
     },
     "output_type": "display_data"
    }
   ],
   "source": [
    "plt.plot(data['Open'], label='Open')\n",
    "plt.plot(data['Close'], label='Close')\n",
    "plt.title('Open vs Close Prices')\n",
    "plt.xlabel('Date')\n",
    "plt.ylabel('Price')\n",
    "plt.legend()\n",
    "plt.show()"
   ]
  },
  {
   "cell_type": "code",
   "execution_count": 18,
   "id": "90f00f5d",
   "metadata": {},
   "outputs": [
    {
     "data": {
      "text/plain": [
       "(1598, 7)"
      ]
     },
     "execution_count": 18,
     "metadata": {},
     "output_type": "execute_result"
    }
   ],
   "source": [
    "data = pd.read_csv(filepath_or_buffer = 'data.csv', \n",
    "                                 low_memory = False, \n",
    "                                 skipinitialspace = True, \n",
    "                                 float_precision = 'round_trip')\n",
    "data.shape"
   ]
  },
  {
   "cell_type": "markdown",
   "id": "0e9c70f9",
   "metadata": {},
   "source": [
    "**Area plot of the trading volume**"
   ]
  },
  {
   "cell_type": "code",
   "execution_count": 15,
   "id": "1319d5b3",
   "metadata": {
    "scrolled": true
   },
   "outputs": [
    {
     "data": {
      "image/png": "[encoded data removed]",
      "text/plain": [
       "<Figure size 432x288 with 1 Axes>"
      ]
     },
     "metadata": {
      "needs_background": "light"
     },
     "output_type": "display_data"
    }
   ],
   "source": [
    "plt.fill_between(data['Date'], data['Volume'], color='blue', alpha=0.3)\n",
    "plt.plot(data['Date'], data['Volume'], color='blue')\n",
    "plt.title('Trading Volume')\n",
    "plt.xlabel('Date')\n",
    "plt.ylabel('Volume')\n",
    "plt.show()"
   ]
  },
  {
   "cell_type": "code",
   "execution_count": 19,
   "id": "ca5e22e5",
   "metadata": {},
   "outputs": [
    {
     "name": "stdout",
     "output_type": "stream",
     "text": [
      "*********************************\n",
      "11186\n",
      "Classfication for ANN  in each Stock Values\n",
      "*********************************\n",
      "11186\n"
     ]
    }
   ],
   "source": [
    "# print(\"Classfication for ANN  in each Stock Values\")\n",
    "print(\"*********************************\")\n",
    "print(data.count().sum())\n",
    "\n",
    "print(\"Classfication for ANN  in each Stock Values\")\n",
    "print(\"*********************************\")\n",
    "print(data.count().sum())"
   ]
  },
  {
   "cell_type": "code",
   "execution_count": 20,
   "id": "2e3d7da6",
   "metadata": {},
   "outputs": [
    {
     "data": {
      "text/plain": [
       "Index(['Date', 'Open', 'High', 'Low', 'Close', 'Adj Close', 'Volume'], dtype='object')"
      ]
     },
     "execution_count": 20,
     "metadata": {},
     "output_type": "execute_result"
    }
   ],
   "source": [
    "data.keys()"
   ]
  },
  {
   "cell_type": "code",
   "execution_count": 21,
   "id": "83099233",
   "metadata": {},
   "outputs": [
    {
     "data": {
      "text/plain": [
       "0        308.644989\n",
       "1        320.670990\n",
       "2        298.585999\n",
       "3        314.690002\n",
       "4        307.024994\n",
       "           ...     \n",
       "1593    2860.103271\n",
       "1594    2897.774170\n",
       "1595    2973.145020\n",
       "1596    3031.060791\n",
       "1597    3109.523438\n",
       "Name: Open, Length: 1598, dtype: float64"
      ]
     },
     "execution_count": 21,
     "metadata": {},
     "output_type": "execute_result"
    }
   ],
   "source": [
    "data['Open']"
   ]
  },
  {
   "cell_type": "code",
   "execution_count": 22,
   "id": "a7bf2aff",
   "metadata": {},
   "outputs": [
    {
     "data": {
      "text/html": [
       "<div>\n",
       "<style scoped>\n",
       "    .dataframe tbody tr th:only-of-type {\n",
       "        vertical-align: middle;\n",
       "    }\n",
       "\n",
       "    .dataframe tbody tr th {\n",
       "        vertical-align: top;\n",
       "    }\n",
       "\n",
       "    .dataframe thead th {\n",
       "        text-align: right;\n",
       "    }\n",
       "</style>\n",
       "<table border=\"1\" class=\"dataframe\">\n",
       "  <thead>\n",
       "    <tr style=\"text-align: right;\">\n",
       "      <th></th>\n",
       "      <th>Open</th>\n",
       "      <th>High</th>\n",
       "      <th>Low</th>\n",
       "      <th>Close</th>\n",
       "      <th>Adj Close</th>\n",
       "      <th>Volume</th>\n",
       "    </tr>\n",
       "  </thead>\n",
       "  <tbody>\n",
       "    <tr>\n",
       "      <th>Open</th>\n",
       "      <td>1.000000</td>\n",
       "      <td>0.999255</td>\n",
       "      <td>0.998307</td>\n",
       "      <td>0.997902</td>\n",
       "      <td>0.997902</td>\n",
       "      <td>0.554001</td>\n",
       "    </tr>\n",
       "    <tr>\n",
       "      <th>High</th>\n",
       "      <td>0.999255</td>\n",
       "      <td>1.000000</td>\n",
       "      <td>0.998189</td>\n",
       "      <td>0.998938</td>\n",
       "      <td>0.998938</td>\n",
       "      <td>0.562732</td>\n",
       "    </tr>\n",
       "    <tr>\n",
       "      <th>Low</th>\n",
       "      <td>0.998307</td>\n",
       "      <td>0.998189</td>\n",
       "      <td>1.000000</td>\n",
       "      <td>0.998974</td>\n",
       "      <td>0.998974</td>\n",
       "      <td>0.537763</td>\n",
       "    </tr>\n",
       "    <tr>\n",
       "      <th>Close</th>\n",
       "      <td>0.997902</td>\n",
       "      <td>0.998938</td>\n",
       "      <td>0.998974</td>\n",
       "      <td>1.000000</td>\n",
       "      <td>1.000000</td>\n",
       "      <td>0.552345</td>\n",
       "    </tr>\n",
       "    <tr>\n",
       "      <th>Adj Close</th>\n",
       "      <td>0.997902</td>\n",
       "      <td>0.998938</td>\n",
       "      <td>0.998974</td>\n",
       "      <td>1.000000</td>\n",
       "      <td>1.000000</td>\n",
       "      <td>0.552345</td>\n",
       "    </tr>\n",
       "    <tr>\n",
       "      <th>Volume</th>\n",
       "      <td>0.554001</td>\n",
       "      <td>0.562732</td>\n",
       "      <td>0.537763</td>\n",
       "      <td>0.552345</td>\n",
       "      <td>0.552345</td>\n",
       "      <td>1.000000</td>\n",
       "    </tr>\n",
       "  </tbody>\n",
       "</table>\n",
       "</div>"
      ],
      "text/plain": [
       "               Open      High       Low     Close  Adj Close    Volume\n",
       "Open       1.000000  0.999255  0.998307  0.997902   0.997902  0.554001\n",
       "High       0.999255  1.000000  0.998189  0.998938   0.998938  0.562732\n",
       "Low        0.998307  0.998189  1.000000  0.998974   0.998974  0.537763\n",
       "Close      0.997902  0.998938  0.998974  1.000000   1.000000  0.552345\n",
       "Adj Close  0.997902  0.998938  0.998974  1.000000   1.000000  0.552345\n",
       "Volume     0.554001  0.562732  0.537763  0.552345   0.552345  1.000000"
      ]
     },
     "execution_count": 22,
     "metadata": {},
     "output_type": "execute_result"
    }
   ],
   "source": [
    "#CORRELATION\n",
    "correlation = data.corr(method='pearson')\n",
    "correlation"
   ]
  },
  {
   "cell_type": "code",
   "execution_count": 23,
   "id": "d53bb2f5",
   "metadata": {},
   "outputs": [
    {
     "data": {
      "text/html": [
       "<div>\n",
       "<style scoped>\n",
       "    .dataframe tbody tr th:only-of-type {\n",
       "        vertical-align: middle;\n",
       "    }\n",
       "\n",
       "    .dataframe tbody tr th {\n",
       "        vertical-align: top;\n",
       "    }\n",
       "\n",
       "    .dataframe thead th {\n",
       "        text-align: right;\n",
       "    }\n",
       "</style>\n",
       "<table border=\"1\" class=\"dataframe\">\n",
       "  <thead>\n",
       "    <tr style=\"text-align: right;\">\n",
       "      <th></th>\n",
       "      <th>Open</th>\n",
       "      <th>High</th>\n",
       "      <th>Low</th>\n",
       "      <th>Close</th>\n",
       "      <th>Adj Close</th>\n",
       "      <th>Volume</th>\n",
       "    </tr>\n",
       "  </thead>\n",
       "  <tbody>\n",
       "    <tr>\n",
       "      <th>count</th>\n",
       "      <td>1598.000000</td>\n",
       "      <td>1598.000000</td>\n",
       "      <td>1598.000000</td>\n",
       "      <td>1598.000000</td>\n",
       "      <td>1598.000000</td>\n",
       "      <td>1.598000e+03</td>\n",
       "    </tr>\n",
       "    <tr>\n",
       "      <th>mean</th>\n",
       "      <td>1026.060794</td>\n",
       "      <td>1061.282123</td>\n",
       "      <td>986.461636</td>\n",
       "      <td>1027.554834</td>\n",
       "      <td>1027.554834</td>\n",
       "      <td>1.245347e+10</td>\n",
       "    </tr>\n",
       "    <tr>\n",
       "      <th>std</th>\n",
       "      <td>1230.979724</td>\n",
       "      <td>1270.582395</td>\n",
       "      <td>1185.384747</td>\n",
       "      <td>1231.398723</td>\n",
       "      <td>1231.398723</td>\n",
       "      <td>1.121937e+10</td>\n",
       "    </tr>\n",
       "    <tr>\n",
       "      <th>min</th>\n",
       "      <td>84.279694</td>\n",
       "      <td>85.342743</td>\n",
       "      <td>82.829887</td>\n",
       "      <td>84.308296</td>\n",
       "      <td>84.308296</td>\n",
       "      <td>6.217330e+08</td>\n",
       "    </tr>\n",
       "    <tr>\n",
       "      <th>25%</th>\n",
       "      <td>196.428421</td>\n",
       "      <td>201.416004</td>\n",
       "      <td>188.846440</td>\n",
       "      <td>196.605812</td>\n",
       "      <td>196.605812</td>\n",
       "      <td>3.154440e+09</td>\n",
       "    </tr>\n",
       "    <tr>\n",
       "      <th>50%</th>\n",
       "      <td>386.373398</td>\n",
       "      <td>396.498703</td>\n",
       "      <td>375.446228</td>\n",
       "      <td>386.445556</td>\n",
       "      <td>386.445556</td>\n",
       "      <td>9.525409e+09</td>\n",
       "    </tr>\n",
       "    <tr>\n",
       "      <th>75%</th>\n",
       "      <td>1647.892822</td>\n",
       "      <td>1721.577515</td>\n",
       "      <td>1568.554352</td>\n",
       "      <td>1659.367554</td>\n",
       "      <td>1659.367554</td>\n",
       "      <td>1.764118e+10</td>\n",
       "    </tr>\n",
       "    <tr>\n",
       "      <th>max</th>\n",
       "      <td>4810.071289</td>\n",
       "      <td>4891.704590</td>\n",
       "      <td>4718.039063</td>\n",
       "      <td>4812.087402</td>\n",
       "      <td>4812.087402</td>\n",
       "      <td>8.448291e+10</td>\n",
       "    </tr>\n",
       "  </tbody>\n",
       "</table>\n",
       "</div>"
      ],
      "text/plain": [
       "              Open         High          Low        Close    Adj Close  \\\n",
       "count  1598.000000  1598.000000  1598.000000  1598.000000  1598.000000   \n",
       "mean   1026.060794  1061.282123   986.461636  1027.554834  1027.554834   \n",
       "std    1230.979724  1270.582395  1185.384747  1231.398723  1231.398723   \n",
       "min      84.279694    85.342743    82.829887    84.308296    84.308296   \n",
       "25%     196.428421   201.416004   188.846440   196.605812   196.605812   \n",
       "50%     386.373398   396.498703   375.446228   386.445556   386.445556   \n",
       "75%    1647.892822  1721.577515  1568.554352  1659.367554  1659.367554   \n",
       "max    4810.071289  4891.704590  4718.039063  4812.087402  4812.087402   \n",
       "\n",
       "             Volume  \n",
       "count  1.598000e+03  \n",
       "mean   1.245347e+10  \n",
       "std    1.121937e+10  \n",
       "min    6.217330e+08  \n",
       "25%    3.154440e+09  \n",
       "50%    9.525409e+09  \n",
       "75%    1.764118e+10  \n",
       "max    8.448291e+10  "
      ]
     },
     "execution_count": 23,
     "metadata": {},
     "output_type": "execute_result"
    }
   ],
   "source": [
    "data.describe()"
   ]
  },
  {
   "cell_type": "code",
   "execution_count": 24,
   "id": "40838c0e",
   "metadata": {},
   "outputs": [
    {
     "data": {
      "text/plain": [
       "0"
      ]
     },
     "execution_count": 24,
     "metadata": {},
     "output_type": "execute_result"
    }
   ],
   "source": [
    "data.duplicated().sum()"
   ]
  },
  {
   "cell_type": "code",
   "execution_count": 25,
   "id": "e280e309",
   "metadata": {},
   "outputs": [
    {
     "data": {
      "text/html": [
       "<div>\n",
       "<style scoped>\n",
       "    .dataframe tbody tr th:only-of-type {\n",
       "        vertical-align: middle;\n",
       "    }\n",
       "\n",
       "    .dataframe tbody tr th {\n",
       "        vertical-align: top;\n",
       "    }\n",
       "\n",
       "    .dataframe thead th {\n",
       "        text-align: right;\n",
       "    }\n",
       "</style>\n",
       "<table border=\"1\" class=\"dataframe\">\n",
       "  <thead>\n",
       "    <tr style=\"text-align: right;\">\n",
       "      <th></th>\n",
       "      <th>Date</th>\n",
       "      <th>Open</th>\n",
       "      <th>High</th>\n",
       "      <th>Low</th>\n",
       "      <th>Close</th>\n",
       "      <th>Adj Close</th>\n",
       "      <th>Volume</th>\n",
       "    </tr>\n",
       "  </thead>\n",
       "  <tbody>\n",
       "    <tr>\n",
       "      <th>0</th>\n",
       "      <td>2017-11-09</td>\n",
       "      <td>308.644989</td>\n",
       "      <td>329.451996</td>\n",
       "      <td>307.056000</td>\n",
       "      <td>320.884003</td>\n",
       "      <td>320.884003</td>\n",
       "      <td>893249984</td>\n",
       "    </tr>\n",
       "    <tr>\n",
       "      <th>1</th>\n",
       "      <td>2017-11-10</td>\n",
       "      <td>320.670990</td>\n",
       "      <td>324.717987</td>\n",
       "      <td>294.541992</td>\n",
       "      <td>299.252991</td>\n",
       "      <td>299.252991</td>\n",
       "      <td>885985984</td>\n",
       "    </tr>\n",
       "    <tr>\n",
       "      <th>2</th>\n",
       "      <td>2017-11-11</td>\n",
       "      <td>298.585999</td>\n",
       "      <td>319.453003</td>\n",
       "      <td>298.191986</td>\n",
       "      <td>314.681000</td>\n",
       "      <td>314.681000</td>\n",
       "      <td>842300992</td>\n",
       "    </tr>\n",
       "  </tbody>\n",
       "</table>\n",
       "</div>"
      ],
      "text/plain": [
       "         Date        Open        High         Low       Close   Adj Close  \\\n",
       "0  2017-11-09  308.644989  329.451996  307.056000  320.884003  320.884003   \n",
       "1  2017-11-10  320.670990  324.717987  294.541992  299.252991  299.252991   \n",
       "2  2017-11-11  298.585999  319.453003  298.191986  314.681000  314.681000   \n",
       "\n",
       "      Volume  \n",
       "0  893249984  \n",
       "1  885985984  \n",
       "2  842300992  "
      ]
     },
     "execution_count": 25,
     "metadata": {},
     "output_type": "execute_result"
    }
   ],
   "source": [
    "data.head(3)"
   ]
  },
  {
   "cell_type": "code",
   "execution_count": 26,
   "id": "358c880c",
   "metadata": {},
   "outputs": [
    {
     "data": {
      "text/plain": [
       "320.884003     1\n",
       "368.855927     1\n",
       "377.441833     1\n",
       "379.484039     1\n",
       "381.190765     1\n",
       "              ..\n",
       "171.447800     1\n",
       "171.874664     1\n",
       "170.046524     1\n",
       "173.751266     1\n",
       "3122.535889    1\n",
       "Name: Close, Length: 1598, dtype: int64"
      ]
     },
     "execution_count": 26,
     "metadata": {},
     "output_type": "execute_result"
    }
   ],
   "source": [
    "data['Close'].value_counts()"
   ]
  },
  {
   "cell_type": "code",
   "execution_count": 27,
   "id": "b23c0c71",
   "metadata": {},
   "outputs": [
    {
     "data": {
      "text/plain": [
       "320.884003     1\n",
       "368.855927     1\n",
       "377.441833     1\n",
       "379.484039     1\n",
       "381.190765     1\n",
       "              ..\n",
       "171.447800     1\n",
       "171.874664     1\n",
       "170.046524     1\n",
       "173.751266     1\n",
       "3122.535889    1\n",
       "Name: Adj Close, Length: 1598, dtype: int64"
      ]
     },
     "execution_count": 27,
     "metadata": {},
     "output_type": "execute_result"
    }
   ],
   "source": [
    "data['Adj Close'].value_counts()"
   ]
  },
  {
   "cell_type": "code",
   "execution_count": 28,
   "id": "5a8d93d5",
   "metadata": {},
   "outputs": [
    {
     "data": {
      "image/png": "[encoded data removed]",
      "text/plain": [
       "<Figure size 432x288 with 1 Axes>"
      ]
     },
     "metadata": {
      "needs_background": "light"
     },
     "output_type": "display_data"
    }
   ],
   "source": [
    "plt.xlabel(\"ANN \",size=12)\n",
    "plt.ylabel(\"Sub-Division\",size=12)\n",
    "plt.title(\"ANN v/s NLP\")\n",
    "plt.grid(axis=\"x\",linestyle=\"-.\")\n",
    "plt.show()"
   ]
  },
  {
   "cell_type": "markdown",
   "id": "10499339",
   "metadata": {},
   "source": [
    "*Above plot shows the total Cry Stock Data from year 2017-2022 in each subdivision,\n",
    " from the above plot we note that:-\n",
    " 1)Data yea have recieved the least stock price prediction  value"
   ]
  },
  {
   "cell_type": "code",
   "execution_count": 29,
   "id": "ea23646d",
   "metadata": {},
   "outputs": [
    {
     "data": {
      "image/png": "[encoded data removed]",
      "text/plain": [
       "<Figure size 1080x576 with 1 Axes>"
      ]
     },
     "metadata": {
      "needs_background": "light"
     },
     "output_type": "display_data"
    }
   ],
   "source": [
    "plt.figure(figsize=(15,8))\n",
    "data.groupby(\"High\").sum()['Low'].plot(kind=\"line\",color=\"r\",marker=\".\")\n",
    "plt.xlabel(\"Open\",size=12)\n",
    "plt.ylabel(\"ANN IN NLP\",size=12)\n",
    "plt.grid(axis=\"both\",linestyle=\"-.\")\n",
    "plt.title(\"Stock Price Prediction   over Years\")\n",
    "plt.show()"
   ]
  },
  {
   "cell_type": "markdown",
   "id": "ba221efb",
   "metadata": {},
   "source": [
    "Above graph shows the Stock Price Prediction  from 2017-2022 in India,\n",
    " we observe that :-\n",
    " 1)The maximum stock price prediction  value Detection Comparactions Algorthim was in ANN & NLP"
   ]
  },
  {
   "cell_type": "code",
   "execution_count": 30,
   "id": "e7d74f5d",
   "metadata": {},
   "outputs": [
    {
     "data": {
      "image/png": "[encoded data removed]",
      "text/plain": [
       "<Figure size 720x432 with 1 Axes>"
      ]
     },
     "metadata": {
      "needs_background": "light"
     },
     "output_type": "display_data"
    }
   ],
   "source": [
    "plt.figure(figsize=(10,6))\n",
    "data[['Low','High']].mean().plot(kind=\"bar\",width=0.5,linewidth=2)\n",
    "plt.title(\"ANN v/s NLP\",size=20)\n",
    "plt.xlabel(\"Precdtions Of Stock Price Prediction  Dataset\",size=14)\n",
    "plt.ylabel(\"Stock in Value\",size=14)\n",
    "plt.grid(axis=\"both\",linestyle=\"-.\")\n",
    "plt.show()"
   ]
  },
  {
   "cell_type": "code",
   "execution_count": 31,
   "id": "4bef2263",
   "metadata": {},
   "outputs": [
    {
     "name": "stdout",
     "output_type": "stream",
     "text": [
      "(1598, 2)\n"
     ]
    },
    {
     "data": {
      "text/html": [
       "<div>\n",
       "<style scoped>\n",
       "    .dataframe tbody tr th:only-of-type {\n",
       "        vertical-align: middle;\n",
       "    }\n",
       "\n",
       "    .dataframe tbody tr th {\n",
       "        vertical-align: top;\n",
       "    }\n",
       "\n",
       "    .dataframe thead th {\n",
       "        text-align: right;\n",
       "    }\n",
       "</style>\n",
       "<table border=\"1\" class=\"dataframe\">\n",
       "  <thead>\n",
       "    <tr style=\"text-align: right;\">\n",
       "      <th></th>\n",
       "      <th>High</th>\n",
       "      <th>Low</th>\n",
       "    </tr>\n",
       "  </thead>\n",
       "  <tbody>\n",
       "    <tr>\n",
       "      <th>0</th>\n",
       "      <td>329.451996</td>\n",
       "      <td>307.056000</td>\n",
       "    </tr>\n",
       "    <tr>\n",
       "      <th>1</th>\n",
       "      <td>324.717987</td>\n",
       "      <td>294.541992</td>\n",
       "    </tr>\n",
       "    <tr>\n",
       "      <th>2</th>\n",
       "      <td>319.453003</td>\n",
       "      <td>298.191986</td>\n",
       "    </tr>\n",
       "    <tr>\n",
       "      <th>3</th>\n",
       "      <td>319.153015</td>\n",
       "      <td>298.513000</td>\n",
       "    </tr>\n",
       "    <tr>\n",
       "      <th>4</th>\n",
       "      <td>328.415009</td>\n",
       "      <td>307.024994</td>\n",
       "    </tr>\n",
       "    <tr>\n",
       "      <th>...</th>\n",
       "      <td>...</td>\n",
       "      <td>...</td>\n",
       "    </tr>\n",
       "    <tr>\n",
       "      <th>195</th>\n",
       "      <td>651.635986</td>\n",
       "      <td>572.952026</td>\n",
       "    </tr>\n",
       "    <tr>\n",
       "      <th>196</th>\n",
       "      <td>610.817993</td>\n",
       "      <td>557.205994</td>\n",
       "    </tr>\n",
       "    <tr>\n",
       "      <th>197</th>\n",
       "      <td>617.185974</td>\n",
       "      <td>575.624023</td>\n",
       "    </tr>\n",
       "    <tr>\n",
       "      <th>198</th>\n",
       "      <td>606.174988</td>\n",
       "      <td>583.512024</td>\n",
       "    </tr>\n",
       "    <tr>\n",
       "      <th>199</th>\n",
       "      <td>590.328003</td>\n",
       "      <td>562.866028</td>\n",
       "    </tr>\n",
       "  </tbody>\n",
       "</table>\n",
       "<p>200 rows × 2 columns</p>\n",
       "</div>"
      ],
      "text/plain": [
       "           High         Low\n",
       "0    329.451996  307.056000\n",
       "1    324.717987  294.541992\n",
       "2    319.453003  298.191986\n",
       "3    319.153015  298.513000\n",
       "4    328.415009  307.024994\n",
       "..          ...         ...\n",
       "195  651.635986  572.952026\n",
       "196  610.817993  557.205994\n",
       "197  617.185974  575.624023\n",
       "198  606.174988  583.512024\n",
       "199  590.328003  562.866028\n",
       "\n",
       "[200 rows x 2 columns]"
      ]
     },
     "execution_count": 31,
     "metadata": {},
     "output_type": "execute_result"
    }
   ],
   "source": [
    "data_df = data[['High','Low']]\n",
    "print(data_df.shape)\n",
    "data_df.head(200)"
   ]
  },
  {
   "cell_type": "code",
   "execution_count": 32,
   "id": "11cf142d",
   "metadata": {},
   "outputs": [
    {
     "data": {
      "text/plain": [
       "(array([   0,    1,    2, ..., 1595, 1596, 1597], dtype=int64),\n",
       " Float64Index([ 329.451996,  324.717987,  319.453003,  319.153015,  328.415009,\n",
       "                340.177002,  340.911987,  336.158997,  334.963989,  349.615997,\n",
       "               ...\n",
       "               2781.307129, 2826.160645, 2973.616211, 2979.987061, 2956.965576,\n",
       "               2954.556641, 3040.382813, 3036.752197, 3118.387695,  3182.82666],\n",
       "              dtype='float64', length=1598))"
      ]
     },
     "execution_count": 32,
     "metadata": {},
     "output_type": "execute_result"
    }
   ],
   "source": [
    "sentiment_label = data_df.High.factorize()\n",
    "sentiment_label"
   ]
  },
  {
   "cell_type": "code",
   "execution_count": 33,
   "id": "569a32fd",
   "metadata": {},
   "outputs": [
    {
     "data": {
      "text/plain": [
       "(array([   0,    1,    2, ..., 1595, 1596, 1597], dtype=int64),\n",
       " Float64Index([    307.056,  294.541992,  298.191986,     298.513,  307.024994,\n",
       "                   316.763,  329.812988,  323.605988,   327.52301,  327.687012,\n",
       "               ...\n",
       "               2610.764404, 2751.560791, 2774.855713, 2910.802246, 2826.107422,\n",
       "               2838.250488, 2892.544434, 2933.306641,  3012.32666, 3097.624268],\n",
       "              dtype='float64', length=1598))"
      ]
     },
     "execution_count": 33,
     "metadata": {},
     "output_type": "execute_result"
    }
   ],
   "source": [
    "sentiment_label = data_df.Low.factorize()\n",
    "sentiment_label"
   ]
  },
  {
   "cell_type": "code",
   "execution_count": 34,
   "id": "bb01a9b7",
   "metadata": {},
   "outputs": [
    {
     "data": {
      "text/plain": [
       "329.451996     1\n",
       "369.768127     1\n",
       "381.208771     1\n",
       "387.296173     1\n",
       "387.375671     1\n",
       "              ..\n",
       "176.850784     1\n",
       "173.069122     1\n",
       "174.420776     1\n",
       "176.705811     1\n",
       "3182.826660    1\n",
       "Name: High, Length: 1598, dtype: int64"
      ]
     },
     "execution_count": 34,
     "metadata": {},
     "output_type": "execute_result"
    }
   ],
   "source": [
    "data_df[\"High\"].value_counts()"
   ]
  },
  {
   "cell_type": "code",
   "execution_count": 102,
   "id": "e6a656a8",
   "metadata": {},
   "outputs": [
    {
     "name": "stderr",
     "output_type": "stream",
     "text": [
      "No handles with labels found to put in legend.\n"
     ]
    },
    {
     "data": {
      "image/png": "[encoded data removed]",
      "text/plain": [
       "<Figure size 432x288 with 1 Axes>"
      ]
     },
     "metadata": {
      "needs_background": "light"
     },
     "output_type": "display_data"
    },
    {
     "data": {
      "text/plain": [
       "<Figure size 432x288 with 0 Axes>"
      ]
     },
     "metadata": {},
     "output_type": "display_data"
    }
   ],
   "source": [
    "plt.legend()\n",
    "plt.show()\n",
    "plt.savefig(\"Loss plot.jpg\")"
   ]
  },
  {
   "cell_type": "code",
   "execution_count": 35,
   "id": "9e152efe",
   "metadata": {},
   "outputs": [
    {
     "name": "stderr",
     "output_type": "stream",
     "text": [
      "C:\\ProgramData\\Anaconda3\\lib\\site-packages\\statsmodels\\tsa\\base\\tsa_model.py:524: ValueWarning: No frequency information was provided, so inferred frequency D will be used.\n",
      "  warnings.warn('No frequency information was'\n",
      "C:\\ProgramData\\Anaconda3\\lib\\site-packages\\statsmodels\\tsa\\base\\tsa_model.py:524: ValueWarning: No frequency information was provided, so inferred frequency D will be used.\n",
      "  warnings.warn('No frequency information was'\n"
     ]
    },
    {
     "data": {
      "image/png": "[encoded data removed]",
      "text/plain": [
       "<Figure size 432x288 with 1 Axes>"
      ]
     },
     "metadata": {
      "needs_background": "light"
     },
     "output_type": "display_data"
    },
    {
     "name": "stdout",
     "output_type": "stream",
     "text": [
      "2022-03-26    3117.677202\n",
      "2022-03-27    3116.047499\n",
      "2022-03-28    3106.858188\n",
      "2022-03-29    3104.128212\n",
      "2022-03-30    3096.133545\n",
      "2022-03-31    3096.153822\n",
      "2022-04-01    3101.399999\n",
      "2022-04-02    3098.852928\n",
      "2022-04-03    3094.326433\n",
      "2022-04-04    3090.781661\n",
      "2022-04-05    3085.951303\n",
      "2022-04-06    3085.121140\n",
      "2022-04-07    3085.329866\n",
      "2022-04-08    3085.395778\n",
      "2022-04-09    3085.773989\n",
      "2022-04-10    3085.886286\n",
      "2022-04-11    3086.215203\n",
      "2022-04-12    3086.214369\n",
      "2022-04-13    3085.998532\n",
      "2022-04-14    3086.103323\n",
      "2022-04-15    3086.289551\n",
      "2022-04-16    3086.435389\n",
      "2022-04-17    3086.634118\n",
      "2022-04-18    3086.668273\n",
      "2022-04-19    3086.659685\n",
      "2022-04-20    3086.656974\n",
      "2022-04-21    3086.641413\n",
      "2022-04-22    3086.636793\n",
      "2022-04-23    3086.623261\n",
      "2022-04-24    3086.623295\n",
      "2022-04-25    3086.632175\n",
      "2022-04-26    3086.627864\n",
      "2022-04-27    3086.620202\n",
      "2022-04-28    3086.614202\n",
      "2022-04-29    3086.606026\n",
      "2022-04-30    3086.604621\n",
      "2022-05-01    3086.604974\n",
      "2022-05-02    3086.605086\n",
      "2022-05-03    3086.605726\n",
      "2022-05-04    3086.605916\n",
      "2022-05-05    3086.606473\n",
      "2022-05-06    3086.606472\n",
      "2022-05-07    3086.606106\n",
      "2022-05-08    3086.606284\n",
      "2022-05-09    3086.606599\n",
      "2022-05-10    3086.606846\n",
      "2022-05-11    3086.607182\n",
      "2022-05-12    3086.607240\n",
      "2022-05-13    3086.607225\n",
      "2022-05-14    3086.607221\n",
      "Freq: D, Name: predicted_mean, dtype: float64\n"
     ]
    }
   ],
   "source": [
    "# Load the historical data into a pandas dataframe\n",
    "df = pd.read_csv('data.csv')\n",
    "\n",
    "# Set the date column as the index\n",
    "df.set_index('Date', inplace=True)\n",
    "\n",
    "# Convert the index to a datetime object\n",
    "df.index = pd.to_datetime(df.index)\n",
    "\n",
    "# Select the 'Adj Close' column as the input data\n",
    "data = df['Adj Close']\n",
    "\n",
    "# Fit the SVM model to the entire dataset\n",
    "model = SARIMAX(data, order=(1, 1, 1), seasonal_order=(1, 0, 1, 12))\n",
    "model_fit = model.fit()\n",
    "\n",
    "# Forecast the next 2 years (730 days) of values\n",
    "forecast_values = model_fit.forecast(steps=50)\n",
    "\n",
    "# Plot the historical and forecasted values\n",
    "plt.plot(data.index, data, label=' stock price prediction  Data')\n",
    "plt.plot(forecast_values.index, forecast_values, label='Furture Data Predctions')\n",
    "plt.legend()\n",
    "plt.show()\n",
    "\n",
    "print(forecast_values)"
   ]
  }
 ],
 "metadata": {
  "kernelspec": {
   "display_name": "Python 3 (ipykernel)",
   "language": "python",
   "name": "python3"
  },
  "language_info": {
   "codemirror_mode": {
    "name": "ipython",
    "version": 3
   },
   "file_extension": ".py",
   "mimetype": "text/x-python",
   "name": "python",
   "nbconvert_exporter": "python",
   "pygments_lexer": "ipython3",
   "version": "3.9.7"
  }
 },
 "nbformat": 4,
 "nbformat_minor": 5
}
